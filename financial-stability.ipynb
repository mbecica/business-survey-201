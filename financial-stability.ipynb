{
 "cells": [
  {
   "cell_type": "code",
   "execution_count": 27,
   "id": "8ae59ad9-5b6d-455f-be74-3cbd9f65cfb0",
   "metadata": {},
   "outputs": [],
   "source": [
    "import pandas as pd\n",
    "import seaborn as sn\n",
    "import matplotlib.pyplot as plt\n",
    "import numpy as np\n",
    "from pandas.api.types import CategoricalDtype\n",
    "pd.set_option('display.float_format', '{:.2f}'.format)\n",
    "\n",
    "nominal_mapping = {\n",
    "    'Agree': 1,\n",
    "    'Disagree': 0,\n",
    "    \"Unknown\" : np.nan # Use numpy's NaN to represent missing values\n",
    "}\n"
   ]
  },
  {
   "cell_type": "code",
   "execution_count": 40,
   "id": "9c6d224b-4218-4d51-89bb-257e6af3b1f9",
   "metadata": {},
   "outputs": [],
   "source": [
    "business_df=pd.read_csv('CP201A Business Data.csv', delimiter = ',')\n",
    "business_df.rename(columns={\"Technology (list all with commas between)\":\"tech_use\",\n",
    "                        \"Financial Stability\": \"financial_stability\",\n",
    "                        \"Family Owned\": \"family_owned\",\n",
    "                        \"Struggle without Technology\": \"tech_struggle\",\n",
    "                        \"Person Surveyed\": \"respondent\",\n",
    "                        \"Business Type\": \"type\",\n",
    "                        \"Business Length Open\": \"length_open\",\n",
    "                        \"Business ID\" : \"ID\"}, inplace=True)"
   ]
  },
  {
   "cell_type": "code",
   "execution_count": 43,
   "id": "cd10f7e3-f609-4eb1-a1a5-ef5395fcc109",
   "metadata": {},
   "outputs": [],
   "source": [
    "# Clean Categorical Data of Financial Stability\n",
    "# financial_group: The financial stability of this business has fully recovered from the COVID-19 pandemic.\n",
    "\n",
    "# Map 'Agree' and 'Disagree' groupings\n",
    "group_mapping = {\n",
    "    'Strongly Agree': 'Agree',\n",
    "    'Somewhat Agree': 'Agree',\n",
    "    'Strongly Disagree': 'Disagree',\n",
    "    'Somewhat Disagree': 'Disagree',\n",
    "    \"Don't Know/NA\" : 'Unknown'\n",
    "}\n",
    "\n",
    "# Create a new column 'housing_group' for the grouped categories\n",
    "business_df['financial_group'] = business_df['financial_stability'].map(group_mapping)\n",
    "\n",
    "# Set dummy variables \n",
    "business_df['financialrecovery_dv'] = business_df['financial_group'].map(nominal_mapping)"
   ]
  },
  {
   "cell_type": "code",
   "execution_count": 41,
   "id": "21efd055-395c-4725-94ab-191c38742821",
   "metadata": {},
   "outputs": [
    {
     "data": {
      "text/plain": [
       "family_owned\n",
       "Yes             137\n",
       "No               55\n",
       "Don't Know        8\n",
       "Name: count, dtype: int64"
      ]
     },
     "execution_count": 41,
     "metadata": {},
     "output_type": "execute_result"
    }
   ],
   "source": [
    "business_df[[\"family_owned\"]].value_counts(dropna=False)"
   ]
  },
  {
   "cell_type": "code",
   "execution_count": 44,
   "id": "4ff6a134-cfeb-4ada-ae50-fc56ca15389d",
   "metadata": {},
   "outputs": [
    {
     "data": {
      "text/html": [
       "<div>\n",
       "<style scoped>\n",
       "    .dataframe tbody tr th:only-of-type {\n",
       "        vertical-align: middle;\n",
       "    }\n",
       "\n",
       "    .dataframe tbody tr th {\n",
       "        vertical-align: top;\n",
       "    }\n",
       "\n",
       "    .dataframe thead th {\n",
       "        text-align: right;\n",
       "    }\n",
       "</style>\n",
       "<table border=\"1\" class=\"dataframe\">\n",
       "  <thead>\n",
       "    <tr style=\"text-align: right;\">\n",
       "      <th>financial_group</th>\n",
       "      <th>Agree</th>\n",
       "      <th>Disagree</th>\n",
       "      <th>Unknown</th>\n",
       "    </tr>\n",
       "    <tr>\n",
       "      <th>family_owned</th>\n",
       "      <th></th>\n",
       "      <th></th>\n",
       "      <th></th>\n",
       "    </tr>\n",
       "  </thead>\n",
       "  <tbody>\n",
       "    <tr>\n",
       "      <th>Don't Know</th>\n",
       "      <td>0.25</td>\n",
       "      <td>0.25</td>\n",
       "      <td>0.50</td>\n",
       "    </tr>\n",
       "    <tr>\n",
       "      <th>No</th>\n",
       "      <td>0.31</td>\n",
       "      <td>0.29</td>\n",
       "      <td>0.40</td>\n",
       "    </tr>\n",
       "    <tr>\n",
       "      <th>Yes</th>\n",
       "      <td>0.31</td>\n",
       "      <td>0.48</td>\n",
       "      <td>0.20</td>\n",
       "    </tr>\n",
       "    <tr>\n",
       "      <th>All</th>\n",
       "      <td>0.31</td>\n",
       "      <td>0.42</td>\n",
       "      <td>0.27</td>\n",
       "    </tr>\n",
       "  </tbody>\n",
       "</table>\n",
       "</div>"
      ],
      "text/plain": [
       "financial_group  Agree  Disagree  Unknown\n",
       "family_owned                             \n",
       "Don't Know        0.25      0.25     0.50\n",
       "No                0.31      0.29     0.40\n",
       "Yes               0.31      0.48     0.20\n",
       "All               0.31      0.42     0.27"
      ]
     },
     "execution_count": 44,
     "metadata": {},
     "output_type": "execute_result"
    }
   ],
   "source": [
    "pd.crosstab(index=business_df['family_owned'], columns=business_df['financial_group'], margins=True, normalize='index')"
   ]
  },
  {
   "cell_type": "code",
   "execution_count": 42,
   "id": "57a3ae79-7830-4d90-901f-337c471600cb",
   "metadata": {},
   "outputs": [],
   "source": [
    "# Create a new column for filtered length open that excludes 0-3 years\n",
    "length_mapping = {\n",
    "    \"More than 10 years\": \"More than 10\",\n",
    "    \"0-3 years\": np.nan,\n",
    "    \"6-10 years\": \"4-10\",\n",
    "    \"4-5 years\": \"4-10\"\n",
    "}\n",
    "business_df['length_open_filtered'] = business_df['length_open'].map(length_mapping)\n",
    "business_df['open_ten_plus_dv'] = business_df['length_open_filtered'].map({\"More than 10\":1,\"4-10\":0})\n",
    "business_df['open_four_ten_dv'] = business_df['length_open_filtered'].map({\"More than 10\":0,\"4-10\":1}) "
   ]
  },
  {
   "cell_type": "code",
   "execution_count": 37,
   "id": "bc5373b3-59f1-42d6-be69-c5a6e289c3fd",
   "metadata": {},
   "outputs": [
    {
     "data": {
      "text/html": [
       "<div>\n",
       "<style scoped>\n",
       "    .dataframe tbody tr th:only-of-type {\n",
       "        vertical-align: middle;\n",
       "    }\n",
       "\n",
       "    .dataframe tbody tr th {\n",
       "        vertical-align: top;\n",
       "    }\n",
       "\n",
       "    .dataframe thead th {\n",
       "        text-align: right;\n",
       "    }\n",
       "</style>\n",
       "<table border=\"1\" class=\"dataframe\">\n",
       "  <thead>\n",
       "    <tr style=\"text-align: right;\">\n",
       "      <th>col_0</th>\n",
       "      <th>Total</th>\n",
       "    </tr>\n",
       "    <tr>\n",
       "      <th>open_ten_plus_dv</th>\n",
       "      <th></th>\n",
       "    </tr>\n",
       "  </thead>\n",
       "  <tbody>\n",
       "    <tr>\n",
       "      <th>0.00</th>\n",
       "      <td>49</td>\n",
       "    </tr>\n",
       "    <tr>\n",
       "      <th>1.00</th>\n",
       "      <td>89</td>\n",
       "    </tr>\n",
       "  </tbody>\n",
       "</table>\n",
       "</div>"
      ],
      "text/plain": [
       "col_0             Total\n",
       "open_ten_plus_dv       \n",
       "0.00                 49\n",
       "1.00                 89"
      ]
     },
     "execution_count": 37,
     "metadata": {},
     "output_type": "execute_result"
    }
   ],
   "source": [
    "pd.crosstab(index=business_df['open_ten_plus_dv'], columns=\"Total\")"
   ]
  },
  {
   "cell_type": "code",
   "execution_count": 32,
   "id": "14758216-bb52-433f-8aba-f7d42a752d87",
   "metadata": {},
   "outputs": [
    {
     "data": {
      "text/html": [
       "<div>\n",
       "<style scoped>\n",
       "    .dataframe tbody tr th:only-of-type {\n",
       "        vertical-align: middle;\n",
       "    }\n",
       "\n",
       "    .dataframe tbody tr th {\n",
       "        vertical-align: top;\n",
       "    }\n",
       "\n",
       "    .dataframe thead th {\n",
       "        text-align: right;\n",
       "    }\n",
       "</style>\n",
       "<table border=\"1\" class=\"dataframe\">\n",
       "  <thead>\n",
       "    <tr style=\"text-align: right;\">\n",
       "      <th>financialrecovery_dv</th>\n",
       "      <th>0.00</th>\n",
       "      <th>1.00</th>\n",
       "    </tr>\n",
       "    <tr>\n",
       "      <th>length_open_filtered</th>\n",
       "      <th></th>\n",
       "      <th></th>\n",
       "    </tr>\n",
       "  </thead>\n",
       "  <tbody>\n",
       "    <tr>\n",
       "      <th>4-10</th>\n",
       "      <td>0.50</td>\n",
       "      <td>0.50</td>\n",
       "    </tr>\n",
       "    <tr>\n",
       "      <th>More than 10</th>\n",
       "      <td>0.66</td>\n",
       "      <td>0.34</td>\n",
       "    </tr>\n",
       "    <tr>\n",
       "      <th>All</th>\n",
       "      <td>0.60</td>\n",
       "      <td>0.40</td>\n",
       "    </tr>\n",
       "  </tbody>\n",
       "</table>\n",
       "</div>"
      ],
      "text/plain": [
       "financialrecovery_dv  0.00  1.00\n",
       "length_open_filtered            \n",
       "4-10                  0.50  0.50\n",
       "More than 10          0.66  0.34\n",
       "All                   0.60  0.40"
      ]
     },
     "execution_count": 32,
     "metadata": {},
     "output_type": "execute_result"
    }
   ],
   "source": [
    "pd.crosstab(index=business_df['length_open_filtered'], columns=business_df['financialrecovery_dv'], margins=True, normalize='index')"
   ]
  },
  {
   "cell_type": "code",
   "execution_count": 39,
   "id": "98460527-f6e8-4c8f-8f72-bbebb8585f8f",
   "metadata": {},
   "outputs": [
    {
     "data": {
      "text/html": [
       "<div>\n",
       "<style scoped>\n",
       "    .dataframe tbody tr th:only-of-type {\n",
       "        vertical-align: middle;\n",
       "    }\n",
       "\n",
       "    .dataframe tbody tr th {\n",
       "        vertical-align: top;\n",
       "    }\n",
       "\n",
       "    .dataframe thead th {\n",
       "        text-align: right;\n",
       "    }\n",
       "</style>\n",
       "<table border=\"1\" class=\"dataframe\">\n",
       "  <thead>\n",
       "    <tr style=\"text-align: right;\">\n",
       "      <th>financialrecovery_dv</th>\n",
       "      <th>0.00</th>\n",
       "      <th>1.00</th>\n",
       "      <th>All</th>\n",
       "    </tr>\n",
       "    <tr>\n",
       "      <th>open_ten_plus_dv</th>\n",
       "      <th></th>\n",
       "      <th></th>\n",
       "      <th></th>\n",
       "    </tr>\n",
       "  </thead>\n",
       "  <tbody>\n",
       "    <tr>\n",
       "      <th>0.00</th>\n",
       "      <td>22</td>\n",
       "      <td>22</td>\n",
       "      <td>44</td>\n",
       "    </tr>\n",
       "    <tr>\n",
       "      <th>1.00</th>\n",
       "      <td>51</td>\n",
       "      <td>26</td>\n",
       "      <td>77</td>\n",
       "    </tr>\n",
       "    <tr>\n",
       "      <th>All</th>\n",
       "      <td>73</td>\n",
       "      <td>48</td>\n",
       "      <td>121</td>\n",
       "    </tr>\n",
       "  </tbody>\n",
       "</table>\n",
       "</div>"
      ],
      "text/plain": [
       "financialrecovery_dv  0.00  1.00   All\n",
       "open_ten_plus_dv                      \n",
       "0.00                    22    22    44\n",
       "1.00                    51    26    77\n",
       " All                    73    48   121"
      ]
     },
     "execution_count": 39,
     "metadata": {},
     "output_type": "execute_result"
    }
   ],
   "source": [
    "pd.crosstab(index=business_df['open_ten_plus_dv'], columns=business_df['financialrecovery_dv'], margins=True)"
   ]
  },
  {
   "cell_type": "code",
   "execution_count": null,
   "id": "9cd93dca-0a51-4a81-9502-1fa0230ef9b7",
   "metadata": {},
   "outputs": [],
   "source": []
  }
 ],
 "metadata": {
  "kernelspec": {
   "display_name": "Python 3 (ipykernel)",
   "language": "python",
   "name": "python3"
  },
  "language_info": {
   "codemirror_mode": {
    "name": "ipython",
    "version": 3
   },
   "file_extension": ".py",
   "mimetype": "text/x-python",
   "name": "python",
   "nbconvert_exporter": "python",
   "pygments_lexer": "ipython3",
   "version": "3.12.2"
  }
 },
 "nbformat": 4,
 "nbformat_minor": 5
}
